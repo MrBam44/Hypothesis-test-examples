{
 "cells": [
  {
   "cell_type": "markdown",
   "id": "50b3592f",
   "metadata": {},
   "source": [
    "# Problem statement: Is the given data normal or not?\n",
    "Step 1: Collect Data\n",
    "\n",
    "Step 2: Define Null and Alternative Hypotheses\n",
    "\n",
    " - H0: Data is normal\n",
    " - Ha: Data is not normal\n",
    "Step 3: Set the level of significance (α) = 5%\n",
    "\n",
    "Step 3: Run a test to check the normality\n",
    "\n",
    "Step 4: Draw conclusions using the p-value"
   ]
  },
  {
   "cell_type": "code",
   "execution_count": 1,
   "id": "4c8af128",
   "metadata": {},
   "outputs": [
    {
     "data": {
      "text/html": [
       "<div>\n",
       "<style scoped>\n",
       "    .dataframe tbody tr th:only-of-type {\n",
       "        vertical-align: middle;\n",
       "    }\n",
       "\n",
       "    .dataframe tbody tr th {\n",
       "        vertical-align: top;\n",
       "    }\n",
       "\n",
       "    .dataframe thead th {\n",
       "        text-align: right;\n",
       "    }\n",
       "</style>\n",
       "<table border=\"1\" class=\"dataframe\">\n",
       "  <thead>\n",
       "    <tr style=\"text-align: right;\">\n",
       "      <th></th>\n",
       "      <th>Diameter</th>\n",
       "    </tr>\n",
       "  </thead>\n",
       "  <tbody>\n",
       "    <tr>\n",
       "      <th>0</th>\n",
       "      <td>6.7703</td>\n",
       "    </tr>\n",
       "    <tr>\n",
       "      <th>1</th>\n",
       "      <td>7.5093</td>\n",
       "    </tr>\n",
       "    <tr>\n",
       "      <th>2</th>\n",
       "      <td>6.7300</td>\n",
       "    </tr>\n",
       "    <tr>\n",
       "      <th>3</th>\n",
       "      <td>6.7878</td>\n",
       "    </tr>\n",
       "    <tr>\n",
       "      <th>4</th>\n",
       "      <td>7.1522</td>\n",
       "    </tr>\n",
       "    <tr>\n",
       "      <th>5</th>\n",
       "      <td>6.8110</td>\n",
       "    </tr>\n",
       "    <tr>\n",
       "      <th>6</th>\n",
       "      <td>7.2212</td>\n",
       "    </tr>\n",
       "    <tr>\n",
       "      <th>7</th>\n",
       "      <td>6.6606</td>\n",
       "    </tr>\n",
       "    <tr>\n",
       "      <th>8</th>\n",
       "      <td>7.2402</td>\n",
       "    </tr>\n",
       "    <tr>\n",
       "      <th>9</th>\n",
       "      <td>7.0503</td>\n",
       "    </tr>\n",
       "  </tbody>\n",
       "</table>\n",
       "</div>"
      ],
      "text/plain": [
       "   Diameter\n",
       "0    6.7703\n",
       "1    7.5093\n",
       "2    6.7300\n",
       "3    6.7878\n",
       "4    7.1522\n",
       "5    6.8110\n",
       "6    7.2212\n",
       "7    6.6606\n",
       "8    7.2402\n",
       "9    7.0503"
      ]
     },
     "execution_count": 1,
     "metadata": {},
     "output_type": "execute_result"
    }
   ],
   "source": [
    "#Collect Data\n",
    "import pandas as pd \n",
    "df = pd.read_csv('diameter.csv')\n",
    "df.head(10)"
   ]
  },
  {
   "cell_type": "code",
   "execution_count": 2,
   "id": "28ef98d5",
   "metadata": {},
   "outputs": [],
   "source": [
    "# Defining Null and Alternative Hypothesis\n",
    "H0 = 'Data is normal'\n",
    "Ha = 'Data is not normal'"
   ]
  },
  {
   "cell_type": "code",
   "execution_count": 3,
   "id": "a9285eb8",
   "metadata": {},
   "outputs": [],
   "source": [
    "# Set the level of significance\n",
    "alpha = 0.05"
   ]
  },
  {
   "cell_type": "code",
   "execution_count": 4,
   "id": "93876aa3",
   "metadata": {},
   "outputs": [],
   "source": [
    "# Run Shapiro test to check normality\n",
    "from scipy.stats import shapiro\n",
    "p = round(shapiro(df)[1],2)"
   ]
  },
  {
   "cell_type": "code",
   "execution_count": 5,
   "id": "7f0e445b",
   "metadata": {},
   "outputs": [
    {
     "name": "stdout",
     "output_type": "stream",
     "text": [
      "0.52 > 0.05. We fail to reject Null Hypothesis. Data is normal\n"
     ]
    }
   ],
   "source": [
    "# Draw Conclusion\n",
    "if p > alpha:\n",
    "     print(f\"{p} > {alpha}. We fail to reject Null Hypothesis. {H0}\")\n",
    "else:\n",
    "    print(f\"{p} <= {alpha}. We reject Null Hypothesis. {H0}\")\n"
   ]
  },
  {
   "cell_type": "code",
   "execution_count": null,
   "id": "0db87562",
   "metadata": {},
   "outputs": [],
   "source": []
  }
 ],
 "metadata": {
  "kernelspec": {
   "display_name": "Python 3 (ipykernel)",
   "language": "python",
   "name": "python3"
  },
  "language_info": {
   "codemirror_mode": {
    "name": "ipython",
    "version": 3
   },
   "file_extension": ".py",
   "mimetype": "text/x-python",
   "name": "python",
   "nbconvert_exporter": "python",
   "pygments_lexer": "ipython3",
   "version": "3.9.7"
  },
  "varInspector": {
   "cols": {
    "lenName": 16,
    "lenType": 16,
    "lenVar": 40
   },
   "kernels_config": {
    "python": {
     "delete_cmd_postfix": "",
     "delete_cmd_prefix": "del ",
     "library": "var_list.py",
     "varRefreshCmd": "print(var_dic_list())"
    },
    "r": {
     "delete_cmd_postfix": ") ",
     "delete_cmd_prefix": "rm(",
     "library": "var_list.r",
     "varRefreshCmd": "cat(var_dic_list()) "
    }
   },
   "types_to_exclude": [
    "module",
    "function",
    "builtin_function_or_method",
    "instance",
    "_Feature"
   ],
   "window_display": false
  }
 },
 "nbformat": 4,
 "nbformat_minor": 5
}
