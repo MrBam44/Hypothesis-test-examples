{
 "cells": [
  {
   "cell_type": "markdown",
   "id": "ec523d59",
   "metadata": {},
   "source": [
    "## Problem statement: Check if there is any significant difference in average diameter of pizzas between two making units.\n",
    "Step 1: Collect Data\n",
    "\n",
    "Step 2: Define Null and Alternative Hypotheses\n",
    "\n",
    "Ho = 'There is no significant difference'\n",
    "Ha = 'There exist a significant difference'\n",
    "Step 3: Set the level of significance (α) = 5%\n",
    "\n",
    "Step 3: Run a test to check the normality\n",
    "\n",
    "Step 4: Draw conclusions using the p-value"
   ]
  },
  {
   "cell_type": "code",
   "execution_count": 1,
   "id": "24b4d277",
   "metadata": {},
   "outputs": [
    {
     "data": {
      "text/html": [
       "<div>\n",
       "<style scoped>\n",
       "    .dataframe tbody tr th:only-of-type {\n",
       "        vertical-align: middle;\n",
       "    }\n",
       "\n",
       "    .dataframe tbody tr th {\n",
       "        vertical-align: top;\n",
       "    }\n",
       "\n",
       "    .dataframe thead th {\n",
       "        text-align: right;\n",
       "    }\n",
       "</style>\n",
       "<table border=\"1\" class=\"dataframe\">\n",
       "  <thead>\n",
       "    <tr style=\"text-align: right;\">\n",
       "      <th></th>\n",
       "      <th>Making Unit 1</th>\n",
       "      <th>Making Unit 2</th>\n",
       "    </tr>\n",
       "  </thead>\n",
       "  <tbody>\n",
       "    <tr>\n",
       "      <th>0</th>\n",
       "      <td>6.8090</td>\n",
       "      <td>6.7703</td>\n",
       "    </tr>\n",
       "    <tr>\n",
       "      <th>1</th>\n",
       "      <td>6.4376</td>\n",
       "      <td>7.5093</td>\n",
       "    </tr>\n",
       "    <tr>\n",
       "      <th>2</th>\n",
       "      <td>6.9157</td>\n",
       "      <td>6.7300</td>\n",
       "    </tr>\n",
       "    <tr>\n",
       "      <th>3</th>\n",
       "      <td>7.3012</td>\n",
       "      <td>6.7878</td>\n",
       "    </tr>\n",
       "    <tr>\n",
       "      <th>4</th>\n",
       "      <td>7.4488</td>\n",
       "      <td>7.1522</td>\n",
       "    </tr>\n",
       "    <tr>\n",
       "      <th>5</th>\n",
       "      <td>7.3871</td>\n",
       "      <td>6.8110</td>\n",
       "    </tr>\n",
       "    <tr>\n",
       "      <th>6</th>\n",
       "      <td>6.8755</td>\n",
       "      <td>7.2212</td>\n",
       "    </tr>\n",
       "    <tr>\n",
       "      <th>7</th>\n",
       "      <td>7.0621</td>\n",
       "      <td>6.6606</td>\n",
       "    </tr>\n",
       "    <tr>\n",
       "      <th>8</th>\n",
       "      <td>6.6840</td>\n",
       "      <td>7.2402</td>\n",
       "    </tr>\n",
       "    <tr>\n",
       "      <th>9</th>\n",
       "      <td>6.8236</td>\n",
       "      <td>7.0503</td>\n",
       "    </tr>\n",
       "  </tbody>\n",
       "</table>\n",
       "</div>"
      ],
      "text/plain": [
       "   Making Unit 1  Making Unit 2\n",
       "0         6.8090         6.7703\n",
       "1         6.4376         7.5093\n",
       "2         6.9157         6.7300\n",
       "3         7.3012         6.7878\n",
       "4         7.4488         7.1522\n",
       "5         7.3871         6.8110\n",
       "6         6.8755         7.2212\n",
       "7         7.0621         6.6606\n",
       "8         6.6840         7.2402\n",
       "9         6.8236         7.0503"
      ]
     },
     "execution_count": 1,
     "metadata": {},
     "output_type": "execute_result"
    }
   ],
   "source": [
    "import pandas as pd \n",
    "pizzas = pd.read_csv('pizzas.csv')\n",
    "pizzas.head(10)"
   ]
  },
  {
   "cell_type": "code",
   "execution_count": 2,
   "id": "e16d01ca",
   "metadata": {},
   "outputs": [],
   "source": [
    "# Diameter is continuous data and we are comapring the data from two units\n",
    "# Y: Continuous, X: Discrete(2)"
   ]
  },
  {
   "cell_type": "code",
   "execution_count": 3,
   "id": "0eb90899",
   "metadata": {},
   "outputs": [],
   "source": [
    "# Set the level of significance \n",
    "alpha = 0.05"
   ]
  },
  {
   "cell_type": "code",
   "execution_count": 4,
   "id": "4661e8bd",
   "metadata": {
    "scrolled": true
   },
   "outputs": [
    {
     "name": "stdout",
     "output_type": "stream",
     "text": [
      "\n",
      "*** Shapiro Test Results of 'Making Unit 1' ***\n",
      "0.32 > 0.05. we fail to reject Null Hypothesis. 'Making Unit 1' Data is Normally Distributed\n",
      "\n",
      "*** Shapiro Test Results of 'Making Unit 2' ***\n",
      "0.52 > 0.05. we fail to reject Null Hypothesis. 'Making Unit 2' Data is Normally Distributed\n"
     ]
    }
   ],
   "source": [
    "# Defining Null  and Alternative Hypothesis\n",
    "\n",
    "H0 = 'Data is Normally Distributed'\n",
    "Ha = 'Data is not Normally Distributed'\n",
    "\n",
    "from scipy.stats import shapiro\n",
    "\n",
    "def check_normality(df):\n",
    "    for columnName, columnData in pizzas.iteritems():\n",
    "        print('\\n' + \"*** Shapiro Test Results of '{}' ***\".format(columnName))\n",
    "        p= round(shapiro(columnData.values)[1], 2)\n",
    "        \n",
    "        if p> alpha:\n",
    "            print(f\"{p} > {alpha}. we fail to reject Null Hypothesis. '{columnName}' {H0}\")\n",
    "        else:\n",
    "            print(f\"{p} <= {alpha}. we reject Null Hypothesis. '{columnName}' {Ha}\")\n",
    "            \n",
    "check_normality(pizzas)"
   ]
  },
  {
   "cell_type": "code",
   "execution_count": 5,
   "id": "5dac29cc",
   "metadata": {},
   "outputs": [
    {
     "name": "stdout",
     "output_type": "stream",
     "text": [
      "\n",
      "*** Variances Test Result ***\n",
      "1.0 > 0.05. We fail to reject Null Hypothesis. Variances are equal\n"
     ]
    }
   ],
   "source": [
    "H0 = 'Variances are equal'\n",
    "Ha = 'Variances are not equal'\n",
    "\n",
    "from scipy.stats import levene\n",
    "def check_variances(df):\n",
    "    print('\\n' + \"*** Variances Test Result ***\" )\n",
    "    p = round(levene(pizzas['Making Unit 1'], pizzas['Making Unit 1'])[1],2)\n",
    "    \n",
    "    if p > alpha:\n",
    "        print(f\"{p} > {alpha}. We fail to reject Null Hypothesis. {H0}\")\n",
    "    else:\n",
    "        print(f\"{p} <= {alpha}. We reject Null Hypothesis. {Ha}\")\n",
    "\n",
    "check_variances(pizzas)"
   ]
  },
  {
   "cell_type": "code",
   "execution_count": 6,
   "id": "44402309",
   "metadata": {},
   "outputs": [
    {
     "name": "stdout",
     "output_type": "stream",
     "text": [
      "\n",
      "*** 2 sample T Test  Results ****\n",
      "1.0 > 0.05. We fail to reject Null HypothesisThere is no significant difference.\n"
     ]
    }
   ],
   "source": [
    "from scipy.stats import ttest_ind\n",
    "H0 = 'There is no significant difference.'\n",
    "Ha = 'There is exist a significant difference.'\n",
    "\n",
    "def t_test(df):\n",
    "    print('\\n' + '*** 2 sample T Test  Results ****')\n",
    "    test_result = ttest_ind(pizzas['Making Unit 1'], pizzas['Making Unit 1'], equal_var= True)\n",
    "    \n",
    "    p = round(test_result[1], 2)\n",
    "    \n",
    "    if p > alpha:\n",
    "        print(f\"{p} > {alpha}. We fail to reject Null Hypothesis{H0}\")\n",
    "        \n",
    "    else:\n",
    "         print(f\"{p} <= {alpha}. We reject Null Hypothesis{Ha}\")\n",
    "\n",
    "t_test(pizzas)"
   ]
  },
  {
   "cell_type": "code",
   "execution_count": null,
   "id": "374203fb",
   "metadata": {},
   "outputs": [],
   "source": []
  },
  {
   "cell_type": "code",
   "execution_count": null,
   "id": "9bb80ddd",
   "metadata": {},
   "outputs": [],
   "source": []
  }
 ],
 "metadata": {
  "kernelspec": {
   "display_name": "Python 3 (ipykernel)",
   "language": "python",
   "name": "python3"
  },
  "language_info": {
   "codemirror_mode": {
    "name": "ipython",
    "version": 3
   },
   "file_extension": ".py",
   "mimetype": "text/x-python",
   "name": "python",
   "nbconvert_exporter": "python",
   "pygments_lexer": "ipython3",
   "version": "3.9.7"
  },
  "varInspector": {
   "cols": {
    "lenName": 16,
    "lenType": 16,
    "lenVar": 40
   },
   "kernels_config": {
    "python": {
     "delete_cmd_postfix": "",
     "delete_cmd_prefix": "del ",
     "library": "var_list.py",
     "varRefreshCmd": "print(var_dic_list())"
    },
    "r": {
     "delete_cmd_postfix": ") ",
     "delete_cmd_prefix": "rm(",
     "library": "var_list.r",
     "varRefreshCmd": "cat(var_dic_list()) "
    }
   },
   "types_to_exclude": [
    "module",
    "function",
    "builtin_function_or_method",
    "instance",
    "_Feature"
   ],
   "window_display": false
  }
 },
 "nbformat": 4,
 "nbformat_minor": 5
}
